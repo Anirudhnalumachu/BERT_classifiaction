{
  "nbformat": 4,
  "nbformat_minor": 0,
  "metadata": {
    "accelerator": "GPU",
    "colab": {
      "name": "BERT_binary_classifiaction.ipynb",
      "provenance": [],
      "collapsed_sections": []
    },
    "kernelspec": {
      "display_name": "Python 3",
      "language": "python",
      "name": "python3"
    },
    "language_info": {
      "codemirror_mode": {
        "name": "ipython",
        "version": 3
      },
      "file_extension": ".py",
      "mimetype": "text/x-python",
      "name": "python",
      "nbconvert_exporter": "python",
      "pygments_lexer": "ipython3",
      "version": "3.6.9"
    }
  },
  "cells": [
    {
      "cell_type": "markdown",
      "metadata": {
        "id": "NrZ_v2u7FKpg"
      },
      "source": [
        "# Binary calssifiaction: classify the movie reviews based on the sentiment of the review into \"positive\" or 'negative'"
      ]
    },
    {
      "cell_type": "markdown",
      "metadata": {
        "id": "LQdBU_DwFRjg"
      },
      "source": [
        "### Dataset used: IMDB movie reviews (50000 Reviews)"
      ]
    },
    {
      "cell_type": "code",
      "metadata": {
        "colab": {
          "base_uri": "https://localhost:8080/",
          "height": 34
        },
        "id": "aMmD-6bYsKcv",
        "outputId": "7abc3f13-41f8-4fff-afd6-8daa8682e611"
      },
      "source": [
        "%tensorflow_version 2.x\n",
        "import tensorflow as tf\n",
        "import os\n",
        "print(tf.__version__)"
      ],
      "execution_count": null,
      "outputs": [
        {
          "output_type": "stream",
          "text": [
            "2.3.0\n"
          ],
          "name": "stdout"
        }
      ]
    },
    {
      "cell_type": "code",
      "metadata": {
        "id": "gM_xUjgX6Mxw"
      },
      "source": [
        "# using the official tokenization script created by the Google team\n",
        "!wget --quiet https://raw.githubusercontent.com/tensorflow/models/master/official/nlp/bert/tokenization.py"
      ],
      "execution_count": null,
      "outputs": []
    },
    {
      "cell_type": "code",
      "metadata": {
        "colab": {
          "base_uri": "https://localhost:8080/",
          "height": 122
        },
        "id": "-tUvPEi06fTL",
        "outputId": "7353e819-388c-4131-bc4f-5a5d7af16a07"
      },
      "source": [
        "!pip install sentencepiece #This API will offer the encoding, decoding and training of Sentencepiece"
      ],
      "execution_count": null,
      "outputs": [
        {
          "output_type": "stream",
          "text": [
            "Collecting sentencepiece\n",
            "\u001b[?25l  Downloading https://files.pythonhosted.org/packages/d4/a4/d0a884c4300004a78cca907a6ff9a5e9fe4f090f5d95ab341c53d28cbc58/sentencepiece-0.1.91-cp36-cp36m-manylinux1_x86_64.whl (1.1MB)\n",
            "\r\u001b[K     |▎                               | 10kB 19.0MB/s eta 0:00:01\r\u001b[K     |▋                               | 20kB 2.1MB/s eta 0:00:01\r\u001b[K     |█                               | 30kB 1.5MB/s eta 0:00:01\r\u001b[K     |█▏                              | 40kB 1.8MB/s eta 0:00:01\r\u001b[K     |█▌                              | 51kB 2.1MB/s eta 0:00:01\r\u001b[K     |█▉                              | 61kB 2.1MB/s eta 0:00:01\r\u001b[K     |██▏                             | 71kB 2.3MB/s eta 0:00:01\r\u001b[K     |██▍                             | 81kB 2.5MB/s eta 0:00:01\r\u001b[K     |██▊                             | 92kB 2.7MB/s eta 0:00:01\r\u001b[K     |███                             | 102kB 2.9MB/s eta 0:00:01\r\u001b[K     |███▍                            | 112kB 2.9MB/s eta 0:00:01\r\u001b[K     |███▋                            | 122kB 2.9MB/s eta 0:00:01\r\u001b[K     |████                            | 133kB 2.9MB/s eta 0:00:01\r\u001b[K     |████▎                           | 143kB 2.9MB/s eta 0:00:01\r\u001b[K     |████▋                           | 153kB 2.9MB/s eta 0:00:01\r\u001b[K     |████▉                           | 163kB 2.9MB/s eta 0:00:01\r\u001b[K     |█████▏                          | 174kB 2.9MB/s eta 0:00:01\r\u001b[K     |█████▌                          | 184kB 2.9MB/s eta 0:00:01\r\u001b[K     |█████▉                          | 194kB 2.9MB/s eta 0:00:01\r\u001b[K     |██████                          | 204kB 2.9MB/s eta 0:00:01\r\u001b[K     |██████▍                         | 215kB 2.9MB/s eta 0:00:01\r\u001b[K     |██████▊                         | 225kB 2.9MB/s eta 0:00:01\r\u001b[K     |███████                         | 235kB 2.9MB/s eta 0:00:01\r\u001b[K     |███████▎                        | 245kB 2.9MB/s eta 0:00:01\r\u001b[K     |███████▋                        | 256kB 2.9MB/s eta 0:00:01\r\u001b[K     |████████                        | 266kB 2.9MB/s eta 0:00:01\r\u001b[K     |████████▎                       | 276kB 2.9MB/s eta 0:00:01\r\u001b[K     |████████▌                       | 286kB 2.9MB/s eta 0:00:01\r\u001b[K     |████████▉                       | 296kB 2.9MB/s eta 0:00:01\r\u001b[K     |█████████▏                      | 307kB 2.9MB/s eta 0:00:01\r\u001b[K     |█████████▌                      | 317kB 2.9MB/s eta 0:00:01\r\u001b[K     |█████████▊                      | 327kB 2.9MB/s eta 0:00:01\r\u001b[K     |██████████                      | 337kB 2.9MB/s eta 0:00:01\r\u001b[K     |██████████▍                     | 348kB 2.9MB/s eta 0:00:01\r\u001b[K     |██████████▊                     | 358kB 2.9MB/s eta 0:00:01\r\u001b[K     |███████████                     | 368kB 2.9MB/s eta 0:00:01\r\u001b[K     |███████████▎                    | 378kB 2.9MB/s eta 0:00:01\r\u001b[K     |███████████▋                    | 389kB 2.9MB/s eta 0:00:01\r\u001b[K     |████████████                    | 399kB 2.9MB/s eta 0:00:01\r\u001b[K     |████████████▏                   | 409kB 2.9MB/s eta 0:00:01\r\u001b[K     |████████████▌                   | 419kB 2.9MB/s eta 0:00:01\r\u001b[K     |████████████▉                   | 430kB 2.9MB/s eta 0:00:01\r\u001b[K     |█████████████▏                  | 440kB 2.9MB/s eta 0:00:01\r\u001b[K     |█████████████▍                  | 450kB 2.9MB/s eta 0:00:01\r\u001b[K     |█████████████▊                  | 460kB 2.9MB/s eta 0:00:01\r\u001b[K     |██████████████                  | 471kB 2.9MB/s eta 0:00:01\r\u001b[K     |██████████████▍                 | 481kB 2.9MB/s eta 0:00:01\r\u001b[K     |██████████████▋                 | 491kB 2.9MB/s eta 0:00:01\r\u001b[K     |███████████████                 | 501kB 2.9MB/s eta 0:00:01\r\u001b[K     |███████████████▎                | 512kB 2.9MB/s eta 0:00:01\r\u001b[K     |███████████████▋                | 522kB 2.9MB/s eta 0:00:01\r\u001b[K     |███████████████▉                | 532kB 2.9MB/s eta 0:00:01\r\u001b[K     |████████████████▏               | 542kB 2.9MB/s eta 0:00:01\r\u001b[K     |████████████████▌               | 552kB 2.9MB/s eta 0:00:01\r\u001b[K     |████████████████▉               | 563kB 2.9MB/s eta 0:00:01\r\u001b[K     |█████████████████               | 573kB 2.9MB/s eta 0:00:01\r\u001b[K     |█████████████████▍              | 583kB 2.9MB/s eta 0:00:01\r\u001b[K     |█████████████████▊              | 593kB 2.9MB/s eta 0:00:01\r\u001b[K     |██████████████████              | 604kB 2.9MB/s eta 0:00:01\r\u001b[K     |██████████████████▎             | 614kB 2.9MB/s eta 0:00:01\r\u001b[K     |██████████████████▋             | 624kB 2.9MB/s eta 0:00:01\r\u001b[K     |███████████████████             | 634kB 2.9MB/s eta 0:00:01\r\u001b[K     |███████████████████▎            | 645kB 2.9MB/s eta 0:00:01\r\u001b[K     |███████████████████▌            | 655kB 2.9MB/s eta 0:00:01\r\u001b[K     |███████████████████▉            | 665kB 2.9MB/s eta 0:00:01\r\u001b[K     |████████████████████▏           | 675kB 2.9MB/s eta 0:00:01\r\u001b[K     |████████████████████▌           | 686kB 2.9MB/s eta 0:00:01\r\u001b[K     |████████████████████▊           | 696kB 2.9MB/s eta 0:00:01\r\u001b[K     |█████████████████████           | 706kB 2.9MB/s eta 0:00:01\r\u001b[K     |█████████████████████▍          | 716kB 2.9MB/s eta 0:00:01\r\u001b[K     |█████████████████████▋          | 727kB 2.9MB/s eta 0:00:01\r\u001b[K     |██████████████████████          | 737kB 2.9MB/s eta 0:00:01\r\u001b[K     |██████████████████████▎         | 747kB 2.9MB/s eta 0:00:01\r\u001b[K     |██████████████████████▋         | 757kB 2.9MB/s eta 0:00:01\r\u001b[K     |██████████████████████▉         | 768kB 2.9MB/s eta 0:00:01\r\u001b[K     |███████████████████████▏        | 778kB 2.9MB/s eta 0:00:01\r\u001b[K     |███████████████████████▌        | 788kB 2.9MB/s eta 0:00:01\r\u001b[K     |███████████████████████▉        | 798kB 2.9MB/s eta 0:00:01\r\u001b[K     |████████████████████████        | 808kB 2.9MB/s eta 0:00:01\r\u001b[K     |████████████████████████▍       | 819kB 2.9MB/s eta 0:00:01\r\u001b[K     |████████████████████████▊       | 829kB 2.9MB/s eta 0:00:01\r\u001b[K     |█████████████████████████       | 839kB 2.9MB/s eta 0:00:01\r\u001b[K     |█████████████████████████▎      | 849kB 2.9MB/s eta 0:00:01\r\u001b[K     |█████████████████████████▋      | 860kB 2.9MB/s eta 0:00:01\r\u001b[K     |██████████████████████████      | 870kB 2.9MB/s eta 0:00:01\r\u001b[K     |██████████████████████████▎     | 880kB 2.9MB/s eta 0:00:01\r\u001b[K     |██████████████████████████▌     | 890kB 2.9MB/s eta 0:00:01\r\u001b[K     |██████████████████████████▉     | 901kB 2.9MB/s eta 0:00:01\r\u001b[K     |███████████████████████████▏    | 911kB 2.9MB/s eta 0:00:01\r\u001b[K     |███████████████████████████▌    | 921kB 2.9MB/s eta 0:00:01\r\u001b[K     |███████████████████████████▊    | 931kB 2.9MB/s eta 0:00:01\r\u001b[K     |████████████████████████████    | 942kB 2.9MB/s eta 0:00:01\r\u001b[K     |████████████████████████████▍   | 952kB 2.9MB/s eta 0:00:01\r\u001b[K     |████████████████████████████▊   | 962kB 2.9MB/s eta 0:00:01\r\u001b[K     |█████████████████████████████   | 972kB 2.9MB/s eta 0:00:01\r\u001b[K     |█████████████████████████████▎  | 983kB 2.9MB/s eta 0:00:01\r\u001b[K     |█████████████████████████████▋  | 993kB 2.9MB/s eta 0:00:01\r\u001b[K     |██████████████████████████████  | 1.0MB 2.9MB/s eta 0:00:01\r\u001b[K     |██████████████████████████████▏ | 1.0MB 2.9MB/s eta 0:00:01\r\u001b[K     |██████████████████████████████▌ | 1.0MB 2.9MB/s eta 0:00:01\r\u001b[K     |██████████████████████████████▉ | 1.0MB 2.9MB/s eta 0:00:01\r\u001b[K     |███████████████████████████████▏| 1.0MB 2.9MB/s eta 0:00:01\r\u001b[K     |███████████████████████████████▍| 1.1MB 2.9MB/s eta 0:00:01\r\u001b[K     |███████████████████████████████▊| 1.1MB 2.9MB/s eta 0:00:01\r\u001b[K     |████████████████████████████████| 1.1MB 2.9MB/s \n",
            "\u001b[?25hInstalling collected packages: sentencepiece\n",
            "Successfully installed sentencepiece-0.1.91\n"
          ],
          "name": "stdout"
        }
      ]
    },
    {
      "cell_type": "code",
      "metadata": {
        "id": "bQcxYwC86aHp"
      },
      "source": [
        "# importing esssential libraries\n",
        "import numpy as np\n",
        "import pandas as pd\n",
        "import tensorflow as tf\n",
        "from tensorflow.keras.layers import Dense, Input\n",
        "from tensorflow.keras.optimizers import Adam\n",
        "from tensorflow.keras.models import Model\n",
        "from tensorflow.keras.callbacks import ModelCheckpoint\n",
        "import tensorflow_hub as hub\n",
        "import tokenization"
      ],
      "execution_count": null,
      "outputs": []
    },
    {
      "cell_type": "code",
      "metadata": {
        "id": "TJj7HlShsOdM"
      },
      "source": [
        "# print(tf.version)"
      ],
      "execution_count": null,
      "outputs": []
    },
    {
      "cell_type": "code",
      "metadata": {
        "colab": {
          "base_uri": "https://localhost:8080/",
          "height": 51
        },
        "id": "4dl8SUkE6yDQ",
        "outputId": "ff976410-7fb5-4d74-d949-c867f41d052d"
      },
      "source": [
        "%%time\n",
        "module_url = \"https://tfhub.dev/tensorflow/bert_en_uncased_L-24_H-1024_A-16/1\"   # bert model loading\n",
        "bert_layer = hub.KerasLayer(module_url, trainable=True)   #Wraps a Saved Model as a Keras Layer."
      ],
      "execution_count": null,
      "outputs": [
        {
          "output_type": "stream",
          "text": [
            "CPU times: user 27.1 s, sys: 5.38 s, total: 32.5 s\n",
            "Wall time: 38.4 s\n"
          ],
          "name": "stdout"
        }
      ]
    },
    {
      "cell_type": "code",
      "metadata": {
        "colab": {
          "base_uri": "https://localhost:8080/",
          "height": 35
        },
        "id": "P40-4vy061Fo",
        "outputId": "6203a1d6-f076-4f8b-b404-1008c7215197"
      },
      "source": [
        "pwd"
      ],
      "execution_count": null,
      "outputs": [
        {
          "output_type": "execute_result",
          "data": {
            "application/vnd.google.colaboratory.intrinsic+json": {
              "type": "string"
            },
            "text/plain": [
              "'/content'"
            ]
          },
          "metadata": {
            "tags": []
          },
          "execution_count": 7
        }
      ]
    },
    {
      "cell_type": "code",
      "metadata": {
        "colab": {
          "base_uri": "https://localhost:8080/",
          "height": 122
        },
        "id": "bIxctkMyjq_v",
        "outputId": "2550e6f0-8e6f-4c40-9af8-fb6190f4eb50"
      },
      "source": [
        "from google.colab import drive\n",
        "drive.mount('/content/drive')"
      ],
      "execution_count": null,
      "outputs": [
        {
          "output_type": "stream",
          "text": [
            "Go to this URL in a browser: https://accounts.google.com/o/oauth2/auth?client_id=947318989803-6bn6qk8qdgf4n4g3pfee6491hc0brc4i.apps.googleusercontent.com&redirect_uri=urn%3aietf%3awg%3aoauth%3a2.0%3aoob&scope=email%20https%3a%2f%2fwww.googleapis.com%2fauth%2fdocs.test%20https%3a%2f%2fwww.googleapis.com%2fauth%2fdrive%20https%3a%2f%2fwww.googleapis.com%2fauth%2fdrive.photos.readonly%20https%3a%2f%2fwww.googleapis.com%2fauth%2fpeopleapi.readonly&response_type=code\n",
            "\n",
            "Enter your authorization code:\n",
            "··········\n",
            "Mounted at /content/drive\n"
          ],
          "name": "stdout"
        }
      ]
    },
    {
      "cell_type": "code",
      "metadata": {
        "colab": {
          "base_uri": "https://localhost:8080/",
          "height": 34
        },
        "id": "A84iNXvV7CHb",
        "outputId": "c6482dae-e66f-446a-b1c2-2b460dd482af"
      },
      "source": [
        "cd /content/drive/My Drive/"
      ],
      "execution_count": null,
      "outputs": [
        {
          "output_type": "stream",
          "text": [
            "/content/drive/My Drive\n"
          ],
          "name": "stdout"
        }
      ]
    },
    {
      "cell_type": "code",
      "metadata": {
        "colab": {
          "base_uri": "https://localhost:8080/",
          "height": 34
        },
        "id": "pQNm0boN7Giq",
        "outputId": "558e41a5-fc4f-4989-8d29-979d4fc06d91"
      },
      "source": [
        "cd aug_7/"
      ],
      "execution_count": null,
      "outputs": [
        {
          "output_type": "stream",
          "text": [
            "/content/drive/My Drive/aug_7\n"
          ],
          "name": "stdout"
        }
      ]
    },
    {
      "cell_type": "code",
      "metadata": {
        "colab": {
          "base_uri": "https://localhost:8080/",
          "height": 51
        },
        "id": "CT_66Z8PVd2e",
        "outputId": "f05cb606-a42c-45fa-c5ca-f11ce9aaf9ef"
      },
      "source": [
        "ls"
      ],
      "execution_count": null,
      "outputs": [
        {
          "output_type": "stream",
          "text": [
            " BERT_binary_classi_V1.ipynb  'IMDB Dataset.csv'     tokenization.py\n",
            " final_bert_ner_model.ipynb    model_plot_1000.png\n"
          ],
          "name": "stdout"
        }
      ]
    },
    {
      "cell_type": "code",
      "metadata": {
        "id": "wz3gmSgeVWcj"
      },
      "source": [
        "data = pd.read_csv('IMDB Dataset.csv') # loading IMDB Dataset"
      ],
      "execution_count": null,
      "outputs": []
    },
    {
      "cell_type": "code",
      "metadata": {
        "id": "gbAQDXDCWDze"
      },
      "source": [
        ""
      ],
      "execution_count": null,
      "outputs": []
    },
    {
      "cell_type": "code",
      "metadata": {
        "colab": {
          "base_uri": "https://localhost:8080/",
          "height": 204
        },
        "id": "H3HgatQKKjU4",
        "outputId": "e1f61d2b-d3e3-4eb2-fbc8-66bb4155585b"
      },
      "source": [
        "data.head()"
      ],
      "execution_count": null,
      "outputs": [
        {
          "output_type": "execute_result",
          "data": {
            "text/html": [
              "<div>\n",
              "<style scoped>\n",
              "    .dataframe tbody tr th:only-of-type {\n",
              "        vertical-align: middle;\n",
              "    }\n",
              "\n",
              "    .dataframe tbody tr th {\n",
              "        vertical-align: top;\n",
              "    }\n",
              "\n",
              "    .dataframe thead th {\n",
              "        text-align: right;\n",
              "    }\n",
              "</style>\n",
              "<table border=\"1\" class=\"dataframe\">\n",
              "  <thead>\n",
              "    <tr style=\"text-align: right;\">\n",
              "      <th></th>\n",
              "      <th>review</th>\n",
              "      <th>sentiment</th>\n",
              "    </tr>\n",
              "  </thead>\n",
              "  <tbody>\n",
              "    <tr>\n",
              "      <th>0</th>\n",
              "      <td>One of the other reviewers has mentioned that ...</td>\n",
              "      <td>positive</td>\n",
              "    </tr>\n",
              "    <tr>\n",
              "      <th>1</th>\n",
              "      <td>A wonderful little production. &lt;br /&gt;&lt;br /&gt;The...</td>\n",
              "      <td>positive</td>\n",
              "    </tr>\n",
              "    <tr>\n",
              "      <th>2</th>\n",
              "      <td>I thought this was a wonderful way to spend ti...</td>\n",
              "      <td>positive</td>\n",
              "    </tr>\n",
              "    <tr>\n",
              "      <th>3</th>\n",
              "      <td>Basically there's a family where a little boy ...</td>\n",
              "      <td>negative</td>\n",
              "    </tr>\n",
              "    <tr>\n",
              "      <th>4</th>\n",
              "      <td>Petter Mattei's \"Love in the Time of Money\" is...</td>\n",
              "      <td>positive</td>\n",
              "    </tr>\n",
              "  </tbody>\n",
              "</table>\n",
              "</div>"
            ],
            "text/plain": [
              "                                              review sentiment\n",
              "0  One of the other reviewers has mentioned that ...  positive\n",
              "1  A wonderful little production. <br /><br />The...  positive\n",
              "2  I thought this was a wonderful way to spend ti...  positive\n",
              "3  Basically there's a family where a little boy ...  negative\n",
              "4  Petter Mattei's \"Love in the Time of Money\" is...  positive"
            ]
          },
          "metadata": {
            "tags": []
          },
          "execution_count": 13
        }
      ]
    },
    {
      "cell_type": "code",
      "metadata": {
        "id": "iGySKaH7WJXs"
      },
      "source": [
        "labels = {'positive':1,'negative':0} # labelling encoding the target values"
      ],
      "execution_count": null,
      "outputs": []
    },
    {
      "cell_type": "code",
      "metadata": {
        "id": "Si4bMS0DWmb7"
      },
      "source": [
        "data['sentiment'] =data['sentiment'].replace(labels) # replacing the target values with the encoded values"
      ],
      "execution_count": null,
      "outputs": []
    },
    {
      "cell_type": "code",
      "metadata": {
        "colab": {
          "base_uri": "https://localhost:8080/",
          "height": 419
        },
        "id": "GS7j9MzrXKOn",
        "outputId": "f51a296b-8543-454e-eba0-286ca5d743e1"
      },
      "source": [
        "data"
      ],
      "execution_count": null,
      "outputs": [
        {
          "output_type": "execute_result",
          "data": {
            "text/html": [
              "<div>\n",
              "<style scoped>\n",
              "    .dataframe tbody tr th:only-of-type {\n",
              "        vertical-align: middle;\n",
              "    }\n",
              "\n",
              "    .dataframe tbody tr th {\n",
              "        vertical-align: top;\n",
              "    }\n",
              "\n",
              "    .dataframe thead th {\n",
              "        text-align: right;\n",
              "    }\n",
              "</style>\n",
              "<table border=\"1\" class=\"dataframe\">\n",
              "  <thead>\n",
              "    <tr style=\"text-align: right;\">\n",
              "      <th></th>\n",
              "      <th>review</th>\n",
              "      <th>sentiment</th>\n",
              "    </tr>\n",
              "  </thead>\n",
              "  <tbody>\n",
              "    <tr>\n",
              "      <th>0</th>\n",
              "      <td>One of the other reviewers has mentioned that ...</td>\n",
              "      <td>1</td>\n",
              "    </tr>\n",
              "    <tr>\n",
              "      <th>1</th>\n",
              "      <td>A wonderful little production. &lt;br /&gt;&lt;br /&gt;The...</td>\n",
              "      <td>1</td>\n",
              "    </tr>\n",
              "    <tr>\n",
              "      <th>2</th>\n",
              "      <td>I thought this was a wonderful way to spend ti...</td>\n",
              "      <td>1</td>\n",
              "    </tr>\n",
              "    <tr>\n",
              "      <th>3</th>\n",
              "      <td>Basically there's a family where a little boy ...</td>\n",
              "      <td>0</td>\n",
              "    </tr>\n",
              "    <tr>\n",
              "      <th>4</th>\n",
              "      <td>Petter Mattei's \"Love in the Time of Money\" is...</td>\n",
              "      <td>1</td>\n",
              "    </tr>\n",
              "    <tr>\n",
              "      <th>...</th>\n",
              "      <td>...</td>\n",
              "      <td>...</td>\n",
              "    </tr>\n",
              "    <tr>\n",
              "      <th>49995</th>\n",
              "      <td>I thought this movie did a down right good job...</td>\n",
              "      <td>1</td>\n",
              "    </tr>\n",
              "    <tr>\n",
              "      <th>49996</th>\n",
              "      <td>Bad plot, bad dialogue, bad acting, idiotic di...</td>\n",
              "      <td>0</td>\n",
              "    </tr>\n",
              "    <tr>\n",
              "      <th>49997</th>\n",
              "      <td>I am a Catholic taught in parochial elementary...</td>\n",
              "      <td>0</td>\n",
              "    </tr>\n",
              "    <tr>\n",
              "      <th>49998</th>\n",
              "      <td>I'm going to have to disagree with the previou...</td>\n",
              "      <td>0</td>\n",
              "    </tr>\n",
              "    <tr>\n",
              "      <th>49999</th>\n",
              "      <td>No one expects the Star Trek movies to be high...</td>\n",
              "      <td>0</td>\n",
              "    </tr>\n",
              "  </tbody>\n",
              "</table>\n",
              "<p>50000 rows × 2 columns</p>\n",
              "</div>"
            ],
            "text/plain": [
              "                                                  review  sentiment\n",
              "0      One of the other reviewers has mentioned that ...          1\n",
              "1      A wonderful little production. <br /><br />The...          1\n",
              "2      I thought this was a wonderful way to spend ti...          1\n",
              "3      Basically there's a family where a little boy ...          0\n",
              "4      Petter Mattei's \"Love in the Time of Money\" is...          1\n",
              "...                                                  ...        ...\n",
              "49995  I thought this movie did a down right good job...          1\n",
              "49996  Bad plot, bad dialogue, bad acting, idiotic di...          0\n",
              "49997  I am a Catholic taught in parochial elementary...          0\n",
              "49998  I'm going to have to disagree with the previou...          0\n",
              "49999  No one expects the Star Trek movies to be high...          0\n",
              "\n",
              "[50000 rows x 2 columns]"
            ]
          },
          "metadata": {
            "tags": []
          },
          "execution_count": 16
        }
      ]
    },
    {
      "cell_type": "code",
      "metadata": {
        "colab": {
          "base_uri": "https://localhost:8080/",
          "height": 34
        },
        "id": "Ba7HarRQVoIo",
        "outputId": "88766c3a-0c32-4386-8366-32377d2e673c"
      },
      "source": [
        "\n",
        "data.shape"
      ],
      "execution_count": null,
      "outputs": [
        {
          "output_type": "execute_result",
          "data": {
            "text/plain": [
              "(50000, 2)"
            ]
          },
          "metadata": {
            "tags": []
          },
          "execution_count": 17
        }
      ]
    },
    {
      "cell_type": "code",
      "metadata": {
        "id": "rUJQ6xi_Vq5N"
      },
      "source": [
        "train = data.iloc[:10001]   # train and test split precentage 80 and 20 \n",
        "test = data.iloc[10001:2000]  "
      ],
      "execution_count": null,
      "outputs": []
    },
    {
      "cell_type": "code",
      "metadata": {
        "colab": {
          "base_uri": "https://localhost:8080/",
          "height": 419
        },
        "id": "z3eJL2QQV8Lf",
        "outputId": "3a73dbb2-6ae7-4b67-cd2c-e606747a674f"
      },
      "source": [
        "train"
      ],
      "execution_count": null,
      "outputs": [
        {
          "output_type": "execute_result",
          "data": {
            "text/html": [
              "<div>\n",
              "<style scoped>\n",
              "    .dataframe tbody tr th:only-of-type {\n",
              "        vertical-align: middle;\n",
              "    }\n",
              "\n",
              "    .dataframe tbody tr th {\n",
              "        vertical-align: top;\n",
              "    }\n",
              "\n",
              "    .dataframe thead th {\n",
              "        text-align: right;\n",
              "    }\n",
              "</style>\n",
              "<table border=\"1\" class=\"dataframe\">\n",
              "  <thead>\n",
              "    <tr style=\"text-align: right;\">\n",
              "      <th></th>\n",
              "      <th>review</th>\n",
              "      <th>sentiment</th>\n",
              "    </tr>\n",
              "  </thead>\n",
              "  <tbody>\n",
              "    <tr>\n",
              "      <th>0</th>\n",
              "      <td>One of the other reviewers has mentioned that ...</td>\n",
              "      <td>1</td>\n",
              "    </tr>\n",
              "    <tr>\n",
              "      <th>1</th>\n",
              "      <td>A wonderful little production. &lt;br /&gt;&lt;br /&gt;The...</td>\n",
              "      <td>1</td>\n",
              "    </tr>\n",
              "    <tr>\n",
              "      <th>2</th>\n",
              "      <td>I thought this was a wonderful way to spend ti...</td>\n",
              "      <td>1</td>\n",
              "    </tr>\n",
              "    <tr>\n",
              "      <th>3</th>\n",
              "      <td>Basically there's a family where a little boy ...</td>\n",
              "      <td>0</td>\n",
              "    </tr>\n",
              "    <tr>\n",
              "      <th>4</th>\n",
              "      <td>Petter Mattei's \"Love in the Time of Money\" is...</td>\n",
              "      <td>1</td>\n",
              "    </tr>\n",
              "    <tr>\n",
              "      <th>...</th>\n",
              "      <td>...</td>\n",
              "      <td>...</td>\n",
              "    </tr>\n",
              "    <tr>\n",
              "      <th>9996</th>\n",
              "      <td>Give me a break. How can anyone say that this ...</td>\n",
              "      <td>0</td>\n",
              "    </tr>\n",
              "    <tr>\n",
              "      <th>9997</th>\n",
              "      <td>This movie is a bad movie. But after watching ...</td>\n",
              "      <td>0</td>\n",
              "    </tr>\n",
              "    <tr>\n",
              "      <th>9998</th>\n",
              "      <td>This is a movie that was probably made to ente...</td>\n",
              "      <td>0</td>\n",
              "    </tr>\n",
              "    <tr>\n",
              "      <th>9999</th>\n",
              "      <td>Smashing film about film-making. Shows the int...</td>\n",
              "      <td>1</td>\n",
              "    </tr>\n",
              "    <tr>\n",
              "      <th>10000</th>\n",
              "      <td>\" While sporadically engrossing (including a f...</td>\n",
              "      <td>0</td>\n",
              "    </tr>\n",
              "  </tbody>\n",
              "</table>\n",
              "<p>10001 rows × 2 columns</p>\n",
              "</div>"
            ],
            "text/plain": [
              "                                                  review  sentiment\n",
              "0      One of the other reviewers has mentioned that ...          1\n",
              "1      A wonderful little production. <br /><br />The...          1\n",
              "2      I thought this was a wonderful way to spend ti...          1\n",
              "3      Basically there's a family where a little boy ...          0\n",
              "4      Petter Mattei's \"Love in the Time of Money\" is...          1\n",
              "...                                                  ...        ...\n",
              "9996   Give me a break. How can anyone say that this ...          0\n",
              "9997   This movie is a bad movie. But after watching ...          0\n",
              "9998   This is a movie that was probably made to ente...          0\n",
              "9999   Smashing film about film-making. Shows the int...          1\n",
              "10000  \" While sporadically engrossing (including a f...          0\n",
              "\n",
              "[10001 rows x 2 columns]"
            ]
          },
          "metadata": {
            "tags": []
          },
          "execution_count": 19
        }
      ]
    },
    {
      "cell_type": "code",
      "metadata": {
        "id": "wZfxWVnf7TvP"
      },
      "source": [
        "vocab_file = bert_layer.resolved_object.vocab_file.asset_path.numpy()  # loading vocab file which is of the model\n",
        "do_lower_case = bert_layer.resolved_object.do_lower_case.numpy()  #lowecasing the vocab file\n",
        "tokenizer = tokenization.FullTokenizer(vocab_file, do_lower_case) # loading tokenizer "
      ],
      "execution_count": null,
      "outputs": []
    },
    {
      "cell_type": "code",
      "metadata": {
        "id": "xEN7cUSQL5UN"
      },
      "source": [
        "max_len=512     # predifining the max token length of the sentence "
      ],
      "execution_count": null,
      "outputs": []
    },
    {
      "cell_type": "code",
      "metadata": {
        "id": "cChQSc9mL5Ne"
      },
      "source": [
        ""
      ],
      "execution_count": null,
      "outputs": []
    },
    {
      "cell_type": "markdown",
      "metadata": {
        "id": "U884xpAPAytq"
      },
      "source": [
        "# example of one sentence of 'bert_encode' function"
      ]
    },
    {
      "cell_type": "code",
      "metadata": {
        "id": "ZnQ7Go9EK9Iy"
      },
      "source": [
        "text = train['review'].iloc[0]"
      ],
      "execution_count": null,
      "outputs": []
    },
    {
      "cell_type": "code",
      "metadata": {
        "colab": {
          "base_uri": "https://localhost:8080/",
          "height": 154
        },
        "id": "V0vo630cTBu_",
        "outputId": "e053e3d6-40e1-4797-b699-c8a06b9b1b0b"
      },
      "source": [
        "text"
      ],
      "execution_count": null,
      "outputs": [
        {
          "output_type": "execute_result",
          "data": {
            "application/vnd.google.colaboratory.intrinsic+json": {
              "type": "string"
            },
            "text/plain": [
              "\"One of the other reviewers has mentioned that after watching just 1 Oz episode you'll be hooked. They are right, as this is exactly what happened with me.<br /><br />The first thing that struck me about Oz was its brutality and unflinching scenes of violence, which set in right from the word GO. Trust me, this is not a show for the faint hearted or timid. This show pulls no punches with regards to drugs, sex or violence. Its is hardcore, in the classic use of the word.<br /><br />It is called OZ as that is the nickname given to the Oswald Maximum Security State Penitentary. It focuses mainly on Emerald City, an experimental section of the prison where all the cells have glass fronts and face inwards, so privacy is not high on the agenda. Em City is home to many..Aryans, Muslims, gangstas, Latinos, Christians, Italians, Irish and more....so scuffles, death stares, dodgy dealings and shady agreements are never far away.<br /><br />I would say the main appeal of the show is due to the fact that it goes where other shows wouldn't dare. Forget pretty pictures painted for mainstream audiences, forget charm, forget romance...OZ doesn't mess around. The first episode I ever saw struck me as so nasty it was surreal, I couldn't say I was ready for it, but as I watched more, I developed a taste for Oz, and got accustomed to the high levels of graphic violence. Not just violence, but injustice (crooked guards who'll be sold out for a nickel, inmates who'll kill on order and get away with it, well mannered, middle class inmates being turned into prison bitches due to their lack of street skills or prison experience) Watching Oz, you may become comfortable with what is uncomfortable viewing....thats if you can get in touch with your darker side.\""
            ]
          },
          "metadata": {
            "tags": []
          },
          "execution_count": 21
        }
      ]
    },
    {
      "cell_type": "code",
      "metadata": {
        "id": "6Lf-TACaK9Gc"
      },
      "source": [
        "text = tokenizer.tokenize(text)"
      ],
      "execution_count": null,
      "outputs": []
    },
    {
      "cell_type": "code",
      "metadata": {
        "id": "PGFZLBdJLnNV"
      },
      "source": [
        "text"
      ],
      "execution_count": null,
      "outputs": []
    },
    {
      "cell_type": "code",
      "metadata": {
        "id": "TiXrrDmVLnK3"
      },
      "source": [
        "text = text[:max_len-2]   #taking the text length of maximum 510 length because to add 'classifier' and 'separater' in the next step"
      ],
      "execution_count": null,
      "outputs": []
    },
    {
      "cell_type": "code",
      "metadata": {
        "id": "fOtgECY-TPEB"
      },
      "source": [
        "text"
      ],
      "execution_count": null,
      "outputs": []
    },
    {
      "cell_type": "code",
      "metadata": {
        "id": "JPMaxBTmTLIw"
      },
      "source": [
        "input_sequence = [\"[CLS]\"] + text + [\"[SEP]\"] # adding clssifier and separater to the text"
      ],
      "execution_count": null,
      "outputs": []
    },
    {
      "cell_type": "code",
      "metadata": {
        "id": "q6yLn4y_TWtD"
      },
      "source": [
        "input_sequence"
      ],
      "execution_count": null,
      "outputs": []
    },
    {
      "cell_type": "code",
      "metadata": {
        "id": "6A0vg_BXTSzw"
      },
      "source": [
        "pad_len = max_len - len(input_sequence)"
      ],
      "execution_count": null,
      "outputs": []
    },
    {
      "cell_type": "code",
      "metadata": {
        "colab": {
          "base_uri": "https://localhost:8080/",
          "height": 34
        },
        "id": "u1JP41xaTaPw",
        "outputId": "f4355ed0-ac63-4259-de57-b9bbaba8c12d"
      },
      "source": [
        "pad_len"
      ],
      "execution_count": null,
      "outputs": [
        {
          "output_type": "execute_result",
          "data": {
            "text/plain": [
              "95"
            ]
          },
          "metadata": {
            "tags": []
          },
          "execution_count": 29
        }
      ]
    },
    {
      "cell_type": "code",
      "metadata": {
        "id": "bQVZ_Kjk7KyI"
      },
      "source": [
        "tokens = tokenizer.convert_tokens_to_ids(input_sequence) # converting tokens into unique ids"
      ],
      "execution_count": null,
      "outputs": []
    },
    {
      "cell_type": "code",
      "metadata": {
        "id": "XSEgukq2MxId"
      },
      "source": [
        "tokens"
      ],
      "execution_count": null,
      "outputs": []
    },
    {
      "cell_type": "code",
      "metadata": {
        "colab": {
          "base_uri": "https://localhost:8080/",
          "height": 34
        },
        "id": "iAOQBPtKM6ja",
        "outputId": "32011f5e-de79-4f07-a99d-37dc5ebbe174"
      },
      "source": [
        "len(tokens)"
      ],
      "execution_count": null,
      "outputs": [
        {
          "output_type": "execute_result",
          "data": {
            "text/plain": [
              "417"
            ]
          },
          "metadata": {
            "tags": []
          },
          "execution_count": 32
        }
      ]
    },
    {
      "cell_type": "markdown",
      "metadata": {
        "id": "vIhM-n9Ka925"
      },
      "source": [
        "for a bert model we need 3 arrays \n",
        "1. all_tokens\n",
        "2. all_masks\n",
        "3. all_segment_ids"
      ]
    },
    {
      "cell_type": "code",
      "metadata": {
        "id": "za8nQMYINKB2"
      },
      "source": [
        "tokens += [0] * pad_len     # padding the rest of the sequence with zeros/0"
      ],
      "execution_count": null,
      "outputs": []
    },
    {
      "cell_type": "code",
      "metadata": {
        "id": "_6sEIgEqNLMz"
      },
      "source": [
        "tokens"
      ],
      "execution_count": null,
      "outputs": []
    },
    {
      "cell_type": "code",
      "metadata": {
        "id": "D0y4eK-SMrt1"
      },
      "source": [
        "pad_masks = [1] * len(input_sequence) + [0] * pad_len       # where there are token numbers/ids assigning with 1 and \n",
        "                                                              # the rest with of the length with zeros \n",
        "pad_masks"
      ],
      "execution_count": null,
      "outputs": []
    },
    {
      "cell_type": "code",
      "metadata": {
        "id": "0Va6jGR6MriD"
      },
      "source": [
        "segment_ids = [0] * max_len # segment ids to indicate whether a token belongs to the first sequence or the second sequence\n",
        "segment_ids"
      ],
      "execution_count": null,
      "outputs": []
    },
    {
      "cell_type": "markdown",
      "metadata": {
        "id": "H3dY5qnnRUUx"
      },
      "source": [
        "# 'bert_encode' function explanation"
      ]
    },
    {
      "cell_type": "markdown",
      "metadata": {
        "id": "9Ph6NrJ-IqJR"
      },
      "source": [
        "in the below function 'bert_encode' we tokenize each sentence and encode each token with unique 'token_id' and add 'attention_mask', 'segment_id' to give the input to the model"
      ]
    },
    {
      "cell_type": "code",
      "metadata": {
        "id": "3EHMIwOa6dAg"
      },
      "source": [
        "def bert_encode(texts, tokenizer, max_len=512):\n",
        "    all_tokens = []\n",
        "    all_masks = []\n",
        "    all_segments = []\n",
        "    \n",
        "    for text in texts:\n",
        "        text = tokenizer.tokenize(text)   # tokenising the senetence. output--> list of words\n",
        "            \n",
        "        text = text[:max_len-2]    #taking the text length of maximum 510 length because to add 'classifier' and 'separater' in the next step\n",
        "        input_sequence = [\"[CLS]\"] + text + [\"[SEP]\"]   # adding clssifier and separater to the text\n",
        "        pad_len = max_len - len(input_sequence)\n",
        "        \n",
        "        tokens = tokenizer.convert_tokens_to_ids(input_sequence)  # converting the tokens to ids\n",
        "        tokens += [0] * pad_len  # padding the rest of the sequence with zeros/0\n",
        "        pad_masks = [1] * len(input_sequence) + [0] * pad_len # where there are token numbers/ids assigning with 1 and \n",
        "                                                              # the rest with of the length with zeros \n",
        "        \n",
        "        segment_ids = [0] * max_len  # segment ids to indicate whether a token belongs to the first sequence or the second sequence\n",
        "        \n",
        "        all_tokens.append(tokens)           # appending tokens ids\n",
        "        all_masks.append(pad_masks)         # appending attention masks ids\n",
        "        all_segments.append(segment_ids)    # appending segment ids\n",
        "    \n",
        "    return np.array(all_tokens), np.array(all_masks), np.array(all_segments)"
      ],
      "execution_count": null,
      "outputs": []
    },
    {
      "cell_type": "code",
      "metadata": {
        "id": "F5wiu28Q7vHl"
      },
      "source": [
        "train_input = bert_encode(train.review.values, tokenizer, max_len=512)  # function call for encoding train_data\n",
        "test_input = bert_encode(test.review.values, tokenizer, max_len=512)    # function call for encoding test_data\n",
        "train_labels = train.sentiment.values   # taking the training data labels \n",
        "test_labels = test.sentiment.values     # taking the test data labels"
      ],
      "execution_count": null,
      "outputs": []
    },
    {
      "cell_type": "code",
      "metadata": {
        "colab": {
          "base_uri": "https://localhost:8080/",
          "height": 374
        },
        "id": "U8AIOKrKmRUX",
        "outputId": "53e99467-4e03-4b15-838c-3b7a3e1ecc0f"
      },
      "source": [
        "train_input"
      ],
      "execution_count": null,
      "outputs": [
        {
          "output_type": "execute_result",
          "data": {
            "text/plain": [
              "(array([[  101,  2028,  1997, ...,     0,     0,     0],\n",
              "        [  101,  1037,  6919, ...,     0,     0,     0],\n",
              "        [  101,  1045,  2245, ...,     0,     0,     0],\n",
              "        ...,\n",
              "        [  101,  2023,  2003, ...,     0,     0,     0],\n",
              "        [  101, 21105,  2143, ...,     0,     0,     0],\n",
              "        [  101,  1000,  2096, ...,     0,     0,     0]]),\n",
              " array([[1, 1, 1, ..., 0, 0, 0],\n",
              "        [1, 1, 1, ..., 0, 0, 0],\n",
              "        [1, 1, 1, ..., 0, 0, 0],\n",
              "        ...,\n",
              "        [1, 1, 1, ..., 0, 0, 0],\n",
              "        [1, 1, 1, ..., 0, 0, 0],\n",
              "        [1, 1, 1, ..., 0, 0, 0]]),\n",
              " array([[0, 0, 0, ..., 0, 0, 0],\n",
              "        [0, 0, 0, ..., 0, 0, 0],\n",
              "        [0, 0, 0, ..., 0, 0, 0],\n",
              "        ...,\n",
              "        [0, 0, 0, ..., 0, 0, 0],\n",
              "        [0, 0, 0, ..., 0, 0, 0],\n",
              "        [0, 0, 0, ..., 0, 0, 0]]))"
            ]
          },
          "metadata": {
            "tags": []
          },
          "execution_count": 25
        }
      ]
    },
    {
      "cell_type": "code",
      "metadata": {
        "colab": {
          "base_uri": "https://localhost:8080/",
          "height": 34
        },
        "id": "0IzcGYK0UFIB",
        "outputId": "a47a07fe-4011-43c4-dd1f-b5985728f615"
      },
      "source": [
        "train_input[0].shape"
      ],
      "execution_count": null,
      "outputs": [
        {
          "output_type": "execute_result",
          "data": {
            "text/plain": [
              "(10001, 512)"
            ]
          },
          "metadata": {
            "tags": []
          },
          "execution_count": 26
        }
      ]
    },
    {
      "cell_type": "code",
      "metadata": {
        "colab": {
          "base_uri": "https://localhost:8080/",
          "height": 34
        },
        "id": "BdFaS5v-UEzr",
        "outputId": "7c161ddf-fe5c-4fb9-8cb5-7df3b571addf"
      },
      "source": [
        "test_input"
      ],
      "execution_count": null,
      "outputs": [
        {
          "output_type": "execute_result",
          "data": {
            "text/plain": [
              "(array([], dtype=float64), array([], dtype=float64), array([], dtype=float64))"
            ]
          },
          "metadata": {
            "tags": []
          },
          "execution_count": 27
        }
      ]
    },
    {
      "cell_type": "code",
      "metadata": {
        "colab": {
          "base_uri": "https://localhost:8080/",
          "height": 34
        },
        "id": "nA0XIkGJUEvM",
        "outputId": "007409f8-bf58-40ac-f21a-2e893b80bb8a"
      },
      "source": [
        "test_input[0].shape"
      ],
      "execution_count": null,
      "outputs": [
        {
          "output_type": "execute_result",
          "data": {
            "text/plain": [
              "(0,)"
            ]
          },
          "metadata": {
            "tags": []
          },
          "execution_count": 28
        }
      ]
    },
    {
      "cell_type": "code",
      "metadata": {
        "colab": {
          "base_uri": "https://localhost:8080/",
          "height": 34
        },
        "id": "ewFksjgeUEs5",
        "outputId": "c4068b02-050d-45da-f51d-e0f05047bfa8"
      },
      "source": [
        "train_labels"
      ],
      "execution_count": null,
      "outputs": [
        {
          "output_type": "execute_result",
          "data": {
            "text/plain": [
              "array([1, 1, 1, ..., 0, 1, 0])"
            ]
          },
          "metadata": {
            "tags": []
          },
          "execution_count": 29
        }
      ]
    },
    {
      "cell_type": "code",
      "metadata": {
        "colab": {
          "base_uri": "https://localhost:8080/",
          "height": 34
        },
        "id": "EvrQHswjULgn",
        "outputId": "017ca144-a79b-4010-db75-902f2b40a38d"
      },
      "source": [
        "train_labels.shape"
      ],
      "execution_count": null,
      "outputs": [
        {
          "output_type": "execute_result",
          "data": {
            "text/plain": [
              "(10001,)"
            ]
          },
          "metadata": {
            "tags": []
          },
          "execution_count": 30
        }
      ]
    },
    {
      "cell_type": "code",
      "metadata": {
        "colab": {
          "base_uri": "https://localhost:8080/",
          "height": 34
        },
        "id": "UAiXnp-hUK9q",
        "outputId": "9b32dc05-f2b2-461d-fe35-9e8c78db4d6a"
      },
      "source": [
        "test_labels"
      ],
      "execution_count": null,
      "outputs": [
        {
          "output_type": "execute_result",
          "data": {
            "text/plain": [
              "array([], dtype=int64)"
            ]
          },
          "metadata": {
            "tags": []
          },
          "execution_count": 31
        }
      ]
    },
    {
      "cell_type": "code",
      "metadata": {
        "colab": {
          "base_uri": "https://localhost:8080/",
          "height": 34
        },
        "id": "-9rvfdfdUK4D",
        "outputId": "4486c824-de1c-4072-ee6c-4c4b2cb3427e"
      },
      "source": [
        "test_labels.shape"
      ],
      "execution_count": null,
      "outputs": [
        {
          "output_type": "execute_result",
          "data": {
            "text/plain": [
              "(0,)"
            ]
          },
          "metadata": {
            "tags": []
          },
          "execution_count": 32
        }
      ]
    },
    {
      "cell_type": "code",
      "metadata": {
        "id": "wLZrqk2Sx1Dk"
      },
      "source": [
        ""
      ],
      "execution_count": null,
      "outputs": []
    },
    {
      "cell_type": "markdown",
      "metadata": {
        "id": "Fy0CIt6fQ6Fx"
      },
      "source": [
        "# 'build_model' function explanation"
      ]
    },
    {
      "cell_type": "markdown",
      "metadata": {
        "id": "iDv-MIcIK5NT"
      },
      "source": [
        "in the below function 'build_model' we define our model with \n",
        "what are the inputs, \n",
        "the loss function to calculate the loss, \n",
        "the optimizer to how you should change your weights or learning rates of your neural network to reduce the losses,\n",
        "the activation function at the output and the number of nodes in the output layer,\n",
        "and metrics to calculate the score"
      ]
    },
    {
      "cell_type": "code",
      "metadata": {
        "id": "CU1b_Axj6ur6"
      },
      "source": [
        "def build_model(bert_layer, max_len=512):\n",
        "    \n",
        "\n",
        "    input_word_ids = Input(shape=(max_len,), dtype=tf.int32, name=\"input_word_ids\") # tokenized text input\n",
        "    input_mask = Input(shape=(max_len,), dtype=tf.int32, name=\"input_mask\") # an input mask to hold out padding tokens\n",
        "    segment_ids = Input(shape=(max_len,), dtype=tf.int32, name=\"segment_ids\") # segment types when input mixes with different segments.\n",
        "\n",
        "    _, sequence_output = bert_layer([input_word_ids, input_mask, segment_ids])\n",
        "    clf_output = sequence_output[:, 0, :] #representations for the entire input sequences\n",
        "    out = Dense(1, activation='sigmoid')(clf_output) # defining the output layer with 1 node(since we have binary classification) \n",
        "                                                    # and a sigmoid activation function which gives the probability output \n",
        "\n",
        "    model = Model(inputs=[input_word_ids, input_mask, segment_ids], outputs=out) # defining the model with inputs and ouput\n",
        "    model.compile(Adam(lr=1e-5), loss='binary_crossentropy', metrics=['accuracy']) # defining the model with optimizer, loss-function and metrics\n",
        "\n",
        "    return model"
      ],
      "execution_count": null,
      "outputs": []
    },
    {
      "cell_type": "markdown",
      "metadata": {
        "id": "NShXTfodQjhL"
      },
      "source": [
        "# summary of the model"
      ]
    },
    {
      "cell_type": "code",
      "metadata": {
        "colab": {
          "base_uri": "https://localhost:8080/",
          "height": 391
        },
        "id": "1rWdoHU68Vm3",
        "outputId": "0da91024-191f-4bfa-becd-f47607fbc7b6"
      },
      "source": [
        "model = build_model(bert_layer, max_len=512)\n",
        "model.summary()"
      ],
      "execution_count": null,
      "outputs": [
        {
          "output_type": "stream",
          "text": [
            "Model: \"functional_1\"\n",
            "__________________________________________________________________________________________________\n",
            "Layer (type)                    Output Shape         Param #     Connected to                     \n",
            "==================================================================================================\n",
            "input_word_ids (InputLayer)     [(None, 512)]        0                                            \n",
            "__________________________________________________________________________________________________\n",
            "input_mask (InputLayer)         [(None, 512)]        0                                            \n",
            "__________________________________________________________________________________________________\n",
            "segment_ids (InputLayer)        [(None, 512)]        0                                            \n",
            "__________________________________________________________________________________________________\n",
            "keras_layer (KerasLayer)        [(None, 1024), (None 335141889   input_word_ids[0][0]             \n",
            "                                                                 input_mask[0][0]                 \n",
            "                                                                 segment_ids[0][0]                \n",
            "__________________________________________________________________________________________________\n",
            "tf_op_layer_strided_slice (Tens [(None, 1024)]       0           keras_layer[0][1]                \n",
            "__________________________________________________________________________________________________\n",
            "dense (Dense)                   (None, 1)            1025        tf_op_layer_strided_slice[0][0]  \n",
            "==================================================================================================\n",
            "Total params: 335,142,914\n",
            "Trainable params: 335,142,913\n",
            "Non-trainable params: 1\n",
            "__________________________________________________________________________________________________\n"
          ],
          "name": "stdout"
        }
      ]
    },
    {
      "cell_type": "code",
      "metadata": {
        "id": "Amu4G6wb_r_4"
      },
      "source": [
        "from keras.utils.vis_utils import plot_model"
      ],
      "execution_count": null,
      "outputs": []
    },
    {
      "cell_type": "code",
      "metadata": {
        "id": "uqYXLdYR9Z_E"
      },
      "source": [
        "# plot_model(model, to_file='model_plot_1000.png', show_shapes=True, show_layer_names=True)"
      ],
      "execution_count": null,
      "outputs": []
    },
    {
      "cell_type": "markdown",
      "metadata": {
        "id": "E0gfnS9woagz"
      },
      "source": [
        "# Model Training"
      ]
    },
    {
      "cell_type": "code",
      "metadata": {
        "id": "z0tzyQSbGkdy"
      },
      "source": [
        "import datetime"
      ],
      "execution_count": null,
      "outputs": []
    },
    {
      "cell_type": "code",
      "metadata": {
        "id": "--kIrFAjGzH4"
      },
      "source": [
        "# type(train_input[0][0][0])"
      ],
      "execution_count": null,
      "outputs": []
    },
    {
      "cell_type": "code",
      "metadata": {
        "id": "BUJmK93rNVuW"
      },
      "source": [
        "import os"
      ],
      "execution_count": null,
      "outputs": []
    },
    {
      "cell_type": "code",
      "metadata": {
        "id": "6O_XvA_6MUXl"
      },
      "source": [
        "! rm -rf ./logs/"
      ],
      "execution_count": null,
      "outputs": []
    },
    {
      "cell_type": "code",
      "metadata": {
        "id": "bveH_t5OGinj"
      },
      "source": [
        "# log_dir = os.path.join(\"logs\", datetime.datetime.now().strftime(\"%Y%m%d-%H%M%S\"))"
      ],
      "execution_count": null,
      "outputs": []
    },
    {
      "cell_type": "code",
      "metadata": {
        "id": "h_4pNWgmNgh5"
      },
      "source": [
        "# tensorboard_callback = tf.keras.callbacks.TensorBoard(log_dir,histogram_freq=1)"
      ],
      "execution_count": null,
      "outputs": []
    },
    {
      "cell_type": "code",
      "metadata": {
        "id": "5btoCOwqGR9B"
      },
      "source": [
        "# tensorboard_callback = tf.keras.callbacks.TensorBoard(log_dir=log_dir, histogram_freq=1)"
      ],
      "execution_count": null,
      "outputs": []
    },
    {
      "cell_type": "code",
      "metadata": {
        "id": "YylMyR3Rkifu"
      },
      "source": [
        "%load_ext tensorboard\n",
        "logdir = os.path.join(\"logs\", datetime.datetime.now().strftime(\"%Y%m%d-%H%M%S\"))\n",
        "tensorboard_callback = tf.keras.callbacks.TensorBoard(logdir)"
      ],
      "execution_count": null,
      "outputs": []
    },
    {
      "cell_type": "code",
      "metadata": {
        "id": "yOKza5CqmKeA"
      },
      "source": [
        "# tf.keras.callbacks.TensorBoard()"
      ],
      "execution_count": null,
      "outputs": []
    },
    {
      "cell_type": "code",
      "metadata": {
        "colab": {
          "base_uri": "https://localhost:8080/",
          "height": 207
        },
        "id": "__XkLCpr8YGc",
        "outputId": "5b00c268-9f5c-4f2b-86cd-9f8a85223f68"
      },
      "source": [
        "# checkpoint = ModelCheckpoint('IMDB_classi_model.h5', monitor='val_loss', save_best_only=True)\n",
        "\n",
        "train_history = model.fit(\n",
        "    train_input, train_labels,   # fitting the model on the training data\n",
        "    validation_split=0.2,        # validating on 20% of the data\n",
        "    epochs=3,                    \n",
        "    callbacks=[tensorboard_callback],\n",
        "    batch_size=2\n",
        ")"
      ],
      "execution_count": null,
      "outputs": [
        {
          "output_type": "stream",
          "text": [
            "Epoch 1/3\n",
            "   2/1600 [..............................] - ETA: 1:56:42 - loss: 0.6598 - accuracy: 0.7500WARNING:tensorflow:Callbacks method `on_train_batch_end` is slow compared to the batch time (batch time: 1.4476s vs `on_train_batch_end` time: 6.7895s). Check your callbacks.\n"
          ],
          "name": "stdout"
        },
        {
          "output_type": "stream",
          "text": [
            "WARNING:tensorflow:Callbacks method `on_train_batch_end` is slow compared to the batch time (batch time: 1.4476s vs `on_train_batch_end` time: 6.7895s). Check your callbacks.\n"
          ],
          "name": "stderr"
        },
        {
          "output_type": "stream",
          "text": [
            "1600/1600 [==============================] - ETA: 0s - loss: 0.2497 - accuracy: 0.9122WARNING:tensorflow:Callbacks method `on_test_batch_end` is slow compared to the batch time (batch time: 0.1503s vs `on_test_batch_end` time: 0.4733s). Check your callbacks.\n"
          ],
          "name": "stdout"
        },
        {
          "output_type": "stream",
          "text": [
            "WARNING:tensorflow:Callbacks method `on_test_batch_end` is slow compared to the batch time (batch time: 0.1503s vs `on_test_batch_end` time: 0.4733s). Check your callbacks.\n"
          ],
          "name": "stderr"
        },
        {
          "output_type": "stream",
          "text": [
            "\b\b\b\b\b\b\b\b\b\b\b\b\b\b\b\b\b\b\b\b\b\b\b\b\b\b\b\b\b\b\b\b\b\b\b\b\b\b\b\b\b\b\b\b\b\b\b\b\b\b\b\b\b\b\b\b\b\b\b\b\b\b\b\b\b\b\b\b\b\b\b\b\b\b\b\b\b\b\b\b\b\b\b\b\b\b\r1600/1600 [==============================] - 3346s 2s/step - loss: 0.2497 - accuracy: 0.9122 - val_loss: 0.4322 - val_accuracy: 0.8050\n",
            "Epoch 2/3\n",
            "1600/1600 [==============================] - 3334s 2s/step - loss: 0.0744 - accuracy: 0.9731 - val_loss: 0.2619 - val_accuracy: 0.9075\n",
            "Epoch 3/3\n",
            "1600/1600 [==============================] - 3333s 2s/step - loss: 0.0430 - accuracy: 0.9859 - val_loss: 0.3022 - val_accuracy: 0.9150\n"
          ],
          "name": "stdout"
        }
      ]
    },
    {
      "cell_type": "code",
      "metadata": {
        "id": "RRz1tMQsrNVv"
      },
      "source": [
        ""
      ],
      "execution_count": null,
      "outputs": []
    },
    {
      "cell_type": "code",
      "metadata": {
        "colab": {
          "base_uri": "https://localhost:8080/",
          "height": 34
        },
        "id": "9U7TWSw3Bd7s",
        "outputId": "6ae7c61a-1b50-4670-cbd5-82047b7aa94f"
      },
      "source": [
        "# list all data in history\n",
        "print(train_history.history.keys())"
      ],
      "execution_count": null,
      "outputs": [
        {
          "output_type": "stream",
          "text": [
            "dict_keys(['loss', 'accuracy', 'val_loss', 'val_accuracy'])\n"
          ],
          "name": "stdout"
        }
      ]
    },
    {
      "cell_type": "code",
      "metadata": {
        "id": "G7dXWb-KelsU"
      },
      "source": [
        "%tensorboard --logdir logs"
      ],
      "execution_count": null,
      "outputs": []
    },
    {
      "cell_type": "code",
      "metadata": {
        "id": "ymhdSIEOelg7"
      },
      "source": [
        "import matplotlib.pyplot as plt"
      ],
      "execution_count": null,
      "outputs": []
    },
    {
      "cell_type": "code",
      "metadata": {
        "colab": {
          "base_uri": "https://localhost:8080/",
          "height": 295
        },
        "id": "W33b3JwNBW9r",
        "outputId": "4843d8c2-3488-436c-d206-e549c288cd02"
      },
      "source": [
        "# summarize history for accuracy\n",
        "plt.plot(train_history.history['accuracy'])\n",
        "plt.plot(train_history.history['val_accuracy'])\n",
        "plt.title('model accuracy')\n",
        "plt.ylabel('accuracy')\n",
        "plt.xlabel('epoch')\n",
        "plt.legend(['train', 'test'], loc='upper left')\n",
        "plt.show()\n"
      ],
      "execution_count": null,
      "outputs": [
        {
          "output_type": "display_data",
          "data": {
            "image/png": "[encoded data removed]",
            "text/plain": [
              "<Figure size 432x288 with 1 Axes>"
            ]
          },
          "metadata": {
            "tags": [],
            "needs_background": "light"
          }
        }
      ]
    },
    {
      "cell_type": "code",
      "metadata": {
        "colab": {
          "base_uri": "https://localhost:8080/",
          "height": 295
        },
        "id": "xD-_Ks4fBW6M",
        "outputId": "13a57033-27c7-4ebe-a50f-207525f23ebd"
      },
      "source": [
        "# summarize history for loss\n",
        "plt.plot(train_history.history['loss'])\n",
        "plt.plot(train_history.history['val_loss'])\n",
        "plt.title('model loss')\n",
        "plt.ylabel('loss')\n",
        "plt.xlabel('epoch')\n",
        "plt.legend(['train', 'test'], loc='upper left')\n",
        "plt.show()"
      ],
      "execution_count": null,
      "outputs": [
        {
          "output_type": "display_data",
          "data": {
            "image/png": "[encoded data removed]",
            "text/plain": [
              "<Figure size 432x288 with 1 Axes>"
            ]
          },
          "metadata": {
            "tags": [],
            "needs_background": "light"
          }
        }
      ]
    },
    {
      "cell_type": "code",
      "metadata": {
        "id": "LWrzYA3yBW29"
      },
      "source": [
        ""
      ],
      "execution_count": null,
      "outputs": []
    },
    {
      "cell_type": "code",
      "metadata": {
        "colab": {
          "base_uri": "https://localhost:8080/",
          "height": 35
        },
        "id": "5JThwW3wDGR7",
        "outputId": "d6a5d674-c93b-4c10-90fb-a7793fd818bc"
      },
      "source": [
        "pwd"
      ],
      "execution_count": null,
      "outputs": [
        {
          "output_type": "execute_result",
          "data": {
            "application/vnd.google.colaboratory.intrinsic+json": {
              "type": "string"
            },
            "text/plain": [
              "'/content/drive/My Drive/task_aug_7/IMBD'"
            ]
          },
          "metadata": {
            "tags": []
          },
          "execution_count": 25
        }
      ]
    },
    {
      "cell_type": "code",
      "metadata": {
        "colab": {
          "base_uri": "https://localhost:8080/",
          "height": 34
        },
        "id": "ujeTwezrFeMw",
        "outputId": "cf3db92f-653e-44b5-f5a7-37c18c98fcad"
      },
      "source": [
        "ls"
      ],
      "execution_count": null,
      "outputs": [
        {
          "output_type": "stream",
          "text": [
            " IMDB_classi_model.h5  'IMDB Dataset.csv'\n"
          ],
          "name": "stdout"
        }
      ]
    },
    {
      "cell_type": "code",
      "metadata": {
        "id": "kahi1b8a8eOL"
      },
      "source": [
        ""
      ],
      "execution_count": null,
      "outputs": []
    },
    {
      "cell_type": "markdown",
      "metadata": {
        "id": "iE3UQ-IBNN41"
      },
      "source": [
        "# Prediction"
      ]
    },
    {
      "cell_type": "code",
      "metadata": {
        "id": "E1yfh1smDx_0"
      },
      "source": [
        "test_pred = model.predict(test_input)         # predicting on the test data"
      ],
      "execution_count": null,
      "outputs": []
    },
    {
      "cell_type": "code",
      "metadata": {
        "colab": {
          "base_uri": "https://localhost:8080/",
          "height": 136
        },
        "id": "tYmkpOYqD8ps",
        "outputId": "39c02d54-7f57-481f-df96-f09867314a63"
      },
      "source": [
        "test_pred"
      ],
      "execution_count": null,
      "outputs": [
        {
          "output_type": "execute_result",
          "data": {
            "text/plain": [
              "array([[0.00182896],\n",
              "       [0.37909555],\n",
              "       [0.05824261],\n",
              "       ...,\n",
              "       [0.00391522],\n",
              "       [0.00431387],\n",
              "       [0.00325493]], dtype=float32)"
            ]
          },
          "metadata": {
            "tags": []
          },
          "execution_count": 28
        }
      ]
    },
    {
      "cell_type": "code",
      "metadata": {
        "colab": {
          "base_uri": "https://localhost:8080/",
          "height": 34
        },
        "id": "r589Ol8siii5",
        "outputId": "1ebf99b9-81cb-48b5-bcae-f386b0fc4070"
      },
      "source": [
        "len(test_pred)"
      ],
      "execution_count": null,
      "outputs": [
        {
          "output_type": "execute_result",
          "data": {
            "text/plain": [
              "9999"
            ]
          },
          "metadata": {
            "tags": []
          },
          "execution_count": 29
        }
      ]
    },
    {
      "cell_type": "code",
      "metadata": {
        "id": "HWQ5_DuLizU9"
      },
      "source": [
        ""
      ],
      "execution_count": null,
      "outputs": []
    },
    {
      "cell_type": "markdown",
      "metadata": {
        "id": "uhCzLOdRpaDV"
      },
      "source": [
        "in the below cell we take the thresold of 0.50 and what falls above the threshold is prediction 1 and what falls below is prediction 0"
      ]
    },
    {
      "cell_type": "code",
      "metadata": {
        "id": "WN2BPUl-R20a"
      },
      "source": [
        "final_test_pred = []\n",
        "for i in test_pred:\n",
        "    if i>0.50:\n",
        "    final_test_pred.append(1)\n",
        "    else:\n",
        "    final_test_pred.append(0)"
      ],
      "execution_count": null,
      "outputs": []
    },
    {
      "cell_type": "code",
      "metadata": {
        "id": "7MUeluu2SHC8"
      },
      "source": [
        "final_test_pred"
      ],
      "execution_count": null,
      "outputs": []
    },
    {
      "cell_type": "code",
      "metadata": {
        "colab": {
          "base_uri": "https://localhost:8080/",
          "height": 34
        },
        "id": "XoEDH37vSG88",
        "outputId": "d7efc44c-a2eb-40e0-caea-9694ab602757"
      },
      "source": [
        "len(final_test_pred)"
      ],
      "execution_count": null,
      "outputs": [
        {
          "output_type": "execute_result",
          "data": {
            "text/plain": [
              "9999"
            ]
          },
          "metadata": {
            "tags": []
          },
          "execution_count": 32
        }
      ]
    },
    {
      "cell_type": "markdown",
      "metadata": {
        "id": "ZCS-DUK2Maaq"
      },
      "source": [
        "# Accuracy"
      ]
    },
    {
      "cell_type": "code",
      "metadata": {
        "id": "UVaj888TSxsl"
      },
      "source": [
        "from sklearn.metrics import accuracy_score"
      ],
      "execution_count": null,
      "outputs": []
    },
    {
      "cell_type": "code",
      "metadata": {
        "colab": {
          "base_uri": "https://localhost:8080/",
          "height": 34
        },
        "id": "GnaHbr6IkPdn",
        "outputId": "fa371c42-6a43-4e90-db86-58836f9d04e2"
      },
      "source": [
        "accuracy_score(final_test_df['actual_values'],final_test_df['predicted_values'])"
      ],
      "execution_count": null,
      "outputs": [
        {
          "output_type": "execute_result",
          "data": {
            "text/plain": [
              "0.9157915791579158"
            ]
          },
          "metadata": {
            "tags": []
          },
          "execution_count": 36
        }
      ]
    },
    {
      "cell_type": "code",
      "metadata": {
        "colab": {
          "base_uri": "https://localhost:8080/",
          "height": 35
        },
        "id": "zohCZHcxkPa7",
        "outputId": "13650843-2f8b-4bd3-a496-c6ef00433241"
      },
      "source": [
        "pwd"
      ],
      "execution_count": null,
      "outputs": [
        {
          "output_type": "execute_result",
          "data": {
            "application/vnd.google.colaboratory.intrinsic+json": {
              "type": "string"
            },
            "text/plain": [
              "'/content/drive/My Drive/task_aug_7/IMBD'"
            ]
          },
          "metadata": {
            "tags": []
          },
          "execution_count": 39
        }
      ]
    },
    {
      "cell_type": "code",
      "metadata": {
        "id": "iHsci8seTN0I"
      },
      "source": [
        "!mv '/content/drive/My Drive/task_aug_7/IMBD/final_prediction_IMDB.csv' '/content/drive/My Drive/'"
      ],
      "execution_count": null,
      "outputs": []
    },
    {
      "cell_type": "code",
      "metadata": {
        "id": "UWTJUC9hiBbD"
      },
      "source": [
        ""
      ],
      "execution_count": null,
      "outputs": []
    },
    {
      "cell_type": "markdown",
      "metadata": {
        "id": "YdL332GsMRbo"
      },
      "source": [
        "# final output"
      ]
    },
    {
      "cell_type": "markdown",
      "metadata": {
        "id": "Hf0BqEn-qRqg"
      },
      "source": [
        "creating a new dataframe and placing the actual and predicted values side-by-side"
      ]
    },
    {
      "cell_type": "code",
      "metadata": {
        "id": "JwC5DHlsjTqx"
      },
      "source": [
        "final_test_df = pd.DataFrame({'review':test['review'],'actual_values':test['sentiment'],'predicted_values':final_test_pred})"
      ],
      "execution_count": null,
      "outputs": []
    },
    {
      "cell_type": "code",
      "metadata": {
        "colab": {
          "base_uri": "https://localhost:8080/",
          "height": 419
        },
        "id": "wwD5q3PRKpjo",
        "outputId": "19fe01e3-726c-4aab-dded-c6833ed0ce3e"
      },
      "source": [
        "final_test_df"
      ],
      "execution_count": null,
      "outputs": [
        {
          "output_type": "execute_result",
          "data": {
            "text/html": [
              "<div>\n",
              "<style scoped>\n",
              "    .dataframe tbody tr th:only-of-type {\n",
              "        vertical-align: middle;\n",
              "    }\n",
              "\n",
              "    .dataframe tbody tr th {\n",
              "        vertical-align: top;\n",
              "    }\n",
              "\n",
              "    .dataframe thead th {\n",
              "        text-align: right;\n",
              "    }\n",
              "</style>\n",
              "<table border=\"1\" class=\"dataframe\">\n",
              "  <thead>\n",
              "    <tr style=\"text-align: right;\">\n",
              "      <th></th>\n",
              "      <th>review</th>\n",
              "      <th>actual_values</th>\n",
              "      <th>predicted_values</th>\n",
              "    </tr>\n",
              "  </thead>\n",
              "  <tbody>\n",
              "    <tr>\n",
              "      <th>40001</th>\n",
              "      <td>I was excited to see a sitcom that would hopef...</td>\n",
              "      <td>0</td>\n",
              "      <td>0</td>\n",
              "    </tr>\n",
              "    <tr>\n",
              "      <th>40002</th>\n",
              "      <td>When you look at the cover and read stuff abou...</td>\n",
              "      <td>0</td>\n",
              "      <td>0</td>\n",
              "    </tr>\n",
              "    <tr>\n",
              "      <th>40003</th>\n",
              "      <td>Like many others, I counted on the appearance ...</td>\n",
              "      <td>0</td>\n",
              "      <td>0</td>\n",
              "    </tr>\n",
              "    <tr>\n",
              "      <th>40004</th>\n",
              "      <td>This movie was on t.v the other day, and I did...</td>\n",
              "      <td>0</td>\n",
              "      <td>0</td>\n",
              "    </tr>\n",
              "    <tr>\n",
              "      <th>40005</th>\n",
              "      <td>Hickory Dickory Dock was a good Poirot mystery...</td>\n",
              "      <td>1</td>\n",
              "      <td>1</td>\n",
              "    </tr>\n",
              "    <tr>\n",
              "      <th>...</th>\n",
              "      <td>...</td>\n",
              "      <td>...</td>\n",
              "      <td>...</td>\n",
              "    </tr>\n",
              "    <tr>\n",
              "      <th>49995</th>\n",
              "      <td>I thought this movie did a down right good job...</td>\n",
              "      <td>1</td>\n",
              "      <td>1</td>\n",
              "    </tr>\n",
              "    <tr>\n",
              "      <th>49996</th>\n",
              "      <td>Bad plot, bad dialogue, bad acting, idiotic di...</td>\n",
              "      <td>0</td>\n",
              "      <td>0</td>\n",
              "    </tr>\n",
              "    <tr>\n",
              "      <th>49997</th>\n",
              "      <td>I am a Catholic taught in parochial elementary...</td>\n",
              "      <td>0</td>\n",
              "      <td>0</td>\n",
              "    </tr>\n",
              "    <tr>\n",
              "      <th>49998</th>\n",
              "      <td>I'm going to have to disagree with the previou...</td>\n",
              "      <td>0</td>\n",
              "      <td>0</td>\n",
              "    </tr>\n",
              "    <tr>\n",
              "      <th>49999</th>\n",
              "      <td>No one expects the Star Trek movies to be high...</td>\n",
              "      <td>0</td>\n",
              "      <td>0</td>\n",
              "    </tr>\n",
              "  </tbody>\n",
              "</table>\n",
              "<p>9999 rows × 3 columns</p>\n",
              "</div>"
            ],
            "text/plain": [
              "                                                  review  ...  predicted_values\n",
              "40001  I was excited to see a sitcom that would hopef...  ...                 0\n",
              "40002  When you look at the cover and read stuff abou...  ...                 0\n",
              "40003  Like many others, I counted on the appearance ...  ...                 0\n",
              "40004  This movie was on t.v the other day, and I did...  ...                 0\n",
              "40005  Hickory Dickory Dock was a good Poirot mystery...  ...                 1\n",
              "...                                                  ...  ...               ...\n",
              "49995  I thought this movie did a down right good job...  ...                 1\n",
              "49996  Bad plot, bad dialogue, bad acting, idiotic di...  ...                 0\n",
              "49997  I am a Catholic taught in parochial elementary...  ...                 0\n",
              "49998  I'm going to have to disagree with the previou...  ...                 0\n",
              "49999  No one expects the Star Trek movies to be high...  ...                 0\n",
              "\n",
              "[9999 rows x 3 columns]"
            ]
          },
          "metadata": {
            "tags": []
          },
          "execution_count": 34
        }
      ]
    },
    {
      "cell_type": "code",
      "metadata": {
        "id": "wKZVpJPGRyV2"
      },
      "source": [
        "final_test_df.to_csv('final_prediction_IMDB.csv')"
      ],
      "execution_count": null,
      "outputs": []
    },
    {
      "cell_type": "code",
      "metadata": {
        "colab": {
          "base_uri": "https://localhost:8080/",
          "height": 34
        },
        "id": "87SLSHisGWvO",
        "outputId": "65d5f8c0-0edc-4650-be29-346564ed0f09"
      },
      "source": [
        "ls"
      ],
      "execution_count": null,
      "outputs": [
        {
          "output_type": "stream",
          "text": [
            " final_prediction_IMDB.csv   IMDB_classi_model.h5  'IMDB Dataset.csv'\n"
          ],
          "name": "stdout"
        }
      ]
    }
  ]
}